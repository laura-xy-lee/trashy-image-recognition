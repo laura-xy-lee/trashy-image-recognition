{
 "cells": [
  {
   "cell_type": "markdown",
   "metadata": {},
   "source": [
    "# 1) Get items which are recyclable\n",
    "\n",
    "These are the items our image recognition model has to be able to identify."
   ]
  },
  {
   "cell_type": "code",
   "execution_count": 2,
   "metadata": {},
   "outputs": [
    {
     "name": "stderr",
     "output_type": "stream",
     "text": [
      "/home/laura/Documents/trashy-image-recognition/venv/lib/python3.5/site-packages/requests/__init__.py:91: RequestsDependencyWarning: urllib3 (1.24.1) or chardet (2.3.0) doesn't match a supported version!\n",
      "  RequestsDependencyWarning)\n",
      "/home/laura/Documents/trashy-image-recognition/venv/lib/python3.5/site-packages/ipykernel_launcher.py:51: SettingWithCopyWarning: \n",
      "A value is trying to be set on a copy of a slice from a DataFrame.\n",
      "Try using .loc[row_indexer,col_indexer] = value instead\n",
      "\n",
      "See the caveats in the documentation: http://pandas.pydata.org/pandas-docs/stable/indexing.html#indexing-view-versus-copy\n",
      "/home/laura/Documents/trashy-image-recognition/venv/lib/python3.5/site-packages/ipykernel_launcher.py:55: SettingWithCopyWarning: \n",
      "A value is trying to be set on a copy of a slice from a DataFrame.\n",
      "Try using .loc[row_indexer,col_indexer] = value instead\n",
      "\n",
      "See the caveats in the documentation: http://pandas.pydata.org/pandas-docs/stable/indexing.html#indexing-view-versus-copy\n"
     ]
    }
   ],
   "source": [
    "from typing import Text, List\n",
    "import requests\n",
    "\n",
    "import pandas as pd\n",
    "import numpy as np\n",
    "\n",
    "\n",
    "def html_to_df(source: Text,\n",
    "               path: Text) -> List[pd.DataFrame]:\n",
    "    \"\"\"\n",
    "    Convert html to list of pandas dataframes\n",
    "\n",
    "    :param source: Source of html, either 'url' or 'file'\n",
    "    :param path: If source is 'url', enter url. If source if 'file',\n",
    "                 enter file path\n",
    "    \"\"\"\n",
    "    if source == \"url\":\n",
    "        r = requests.get(path)\n",
    "        r_html = r.text\n",
    "    elif source == \"file\":\n",
    "        with open(path) as f:\n",
    "            r_html = f.read()\n",
    "\n",
    "    r_df_list = pd.read_html(r_html)\n",
    "\n",
    "    return r_df_list\n",
    "\n",
    "\n",
    "def get_zerowastesg_recyclables(source: Text,\n",
    "                                path: Text) -> pd.DataFrame:\n",
    "    \"\"\"\n",
    "    Get recyclables from zerowastesg.\n",
    "\n",
    "    :param source: Source of html, either 'url' or 'file'\n",
    "    :param path: If source is 'url', enter url. If source if 'file',\n",
    "                 enter file path\n",
    "    \"\"\"\n",
    "    # Get zerowaste df\n",
    "    zws_df_list = html_to_df(source=source,\n",
    "                             path=path)\n",
    "\n",
    "    zws_df = pd.DataFrame()\n",
    "    for df in zws_df_list:\n",
    "        # Get item type\n",
    "        item_type = df.columns[0]\n",
    "        item_type = item_type.split()[0]\n",
    "\n",
    "        # Split df for recyclables and non-recyclables\n",
    "        df_recyclable = df.iloc[:, 0:2]\n",
    "        df_recyclable.columns = [\"item\", \"remarks\"]\n",
    "        df_recyclable['is_recyclable'] = True\n",
    "\n",
    "        df_non_recyclable = df.iloc[:, 2:4]\n",
    "        df_non_recyclable.columns = [\"item\", \"remarks\"]\n",
    "        df_non_recyclable['is_recyclable'] = False\n",
    "\n",
    "        # Format df\n",
    "        df_group = df_recyclable.append(df_non_recyclable)\n",
    "        df_group['group'] = item_type\n",
    "\n",
    "        df_group['item'] = df_group['item'].replace(\"-\", np.nan)\n",
    "        df_group = df_group.dropna(subset=['item'])\n",
    "        df_group['item'] = df_group['item'].apply(lambda x: ' '.join(x.split()[1:]))\n",
    "        zws_df = zws_df.append(df_group)\n",
    "\n",
    "    zws_df = zws_df.reset_index(drop=True)\n",
    "\n",
    "    return zws_df\n",
    "\n",
    "zws_df = get_zerowastesg_recyclables(source=\"url\",\n",
    "                                     path=\"http://www.zerowastesg.com/recycle/\")"
   ]
  },
  {
   "cell_type": "code",
   "execution_count": 3,
   "metadata": {},
   "outputs": [],
   "source": [
    "recyclables = list(zws_df['item'])"
   ]
  },
  {
   "cell_type": "markdown",
   "metadata": {},
   "source": [
    "# 2a) Get all 1000 items from Imagenet"
   ]
  },
  {
   "cell_type": "code",
   "execution_count": 4,
   "metadata": {},
   "outputs": [
    {
     "name": "stderr",
     "output_type": "stream",
     "text": [
      "/home/laura/Documents/trashy-image-recognition/venv/lib/python3.5/site-packages/bs4/__init__.py:181: UserWarning: No parser was explicitly specified, so I'm using the best available HTML parser for this system (\"lxml\"). This usually isn't a problem, but if you run this code on another system, or in a different virtual environment, it may use a different parser and behave differently.\n",
      "\n",
      "The code that caused this warning is on line 184 of the file /usr/lib/python3.5/runpy.py. To get rid of this warning, change code that looks like this:\n",
      "\n",
      " BeautifulSoup([your markup])\n",
      "\n",
      "to this:\n",
      "\n",
      " BeautifulSoup([your markup], \"lxml\")\n",
      "\n",
      "  markup_type=markup_type))\n"
     ]
    }
   ],
   "source": [
    "import requests\n",
    "\n",
    "from bs4 import BeautifulSoup\n",
    "\n",
    "# Get html from webpage\n",
    "r = requests.get(\"http://image-net.org/challenges/LSVRC/2014/browse-synsets\")\n",
    "\n",
    "# Extract html from main div\n",
    "soup = BeautifulSoup(r.text)\n",
    "result = soup.find(\"div\", {\"id\" : \"main\"})\n",
    "\n",
    "# Get all 1000 classifications\n",
    "classification_dict = {}\n",
    "classes = []\n",
    "get = False\n",
    "\n",
    "for classification in result.findAll('a'):\n",
    "    text = classification.text\n",
    "    \n",
    "    if text == 'kit fox, Vulpes macrotis':\n",
    "        get = True\n",
    "            \n",
    "    if get:\n",
    "        classes.append(classification.text)"
   ]
  },
  {
   "cell_type": "markdown",
   "metadata": {},
   "source": [
    "# 2b) Find which recyclable items are not in Imagenet's list"
   ]
  },
  {
   "cell_type": "markdown",
   "metadata": {},
   "source": [
    "All items are not in Imagenet's list when we do a direct matching"
   ]
  },
  {
   "cell_type": "code",
   "execution_count": 5,
   "metadata": {},
   "outputs": [
    {
     "data": {
      "text/plain": [
       "80"
      ]
     },
     "execution_count": 5,
     "metadata": {},
     "output_type": "execute_result"
    }
   ],
   "source": [
    "len(set(recyclables))"
   ]
  },
  {
   "cell_type": "code",
   "execution_count": 6,
   "metadata": {},
   "outputs": [
    {
     "data": {
      "text/plain": [
       "80"
      ]
     },
     "execution_count": 6,
     "metadata": {},
     "output_type": "execute_result"
    }
   ],
   "source": [
    "len(set(recyclables) - set(classes))"
   ]
  },
  {
   "cell_type": "markdown",
   "metadata": {},
   "source": [
    "# 2c) Test what these items are classified as by Inception V3"
   ]
  },
  {
   "cell_type": "markdown",
   "metadata": {},
   "source": [
    "* Get 30 images\n",
    "* Print images\n",
    "* Run through algo\n",
    "* Return classification by Inception"
   ]
  },
  {
   "cell_type": "code",
   "execution_count": 7,
   "metadata": {},
   "outputs": [],
   "source": [
    "import os\n",
    "import pickle"
   ]
  },
  {
   "cell_type": "code",
   "execution_count": 8,
   "metadata": {
    "scrolled": true
   },
   "outputs": [],
   "source": [
    "import sys\n",
    "sys.path.append('../')\n",
    "\n",
    "from models.imagenet.custom_classify_image import get_softmax_vector\n",
    "from google_images_download import google_images_download\n",
    "\n",
    "response = google_images_download.googleimagesdownload()"
   ]
  },
  {
   "cell_type": "code",
   "execution_count": 18,
   "metadata": {
    "scrolled": true
   },
   "outputs": [
    {
     "name": "stdout",
     "output_type": "stream",
     "text": [
      "\n",
      "Item no.: 1 --> Item name = Plastic containers\n",
      "Evaluating...\n",
      "Starting Download...\n",
      "Completed Image ====> 1. 71i6GQ4TmXL._SX425_.jpg\n",
      "Completed Image ====> 2. kitchen-plastic-container-1500-500x500.jpg\n",
      "Completed Image ====> 3. 10008758-our-accessory-box.jpg\n",
      "Completed Image ====> 4. 236854.jpg&height=940&width=940.jpg\n",
      "Completed Image ====> 5. 81JXRTL5ApL._SX425_.jpg\n",
      "Completed Image ====> 6. s-l300.jpg\n",
      "Completed Image ====> 7. 160976.jpg&height=475&width=475.jpg\n",
      "Completed Image ====> 8. A1r6LsriEoL._SX466_.jpg\n",
      "Completed Image ====> 9. 1131390.jpg\n",
      "Completed Image ====> 10. 750cl-take-away-container-l.jpg\n",
      "Completed Image ====> 11. clear-bottom-w-white-lid-and-blue-aquarium-latches-sterilite-storage-bins-14978006-64_1000.jpg\n",
      "Completed Image ====> 12. plastic-container-500x500.jpg\n",
      "Completed Image ====> 13. s-l300.jpg\n",
      "Completed Image ====> 14. bc6cde91ae0ce04080a97adb2824b4ee.jpg\n",
      "IOError on an image...trying next one... Error: The read operation timed out\n",
      "Completed Image ====> 15. 05\n",
      "Completed Image ====> 16. round-plastic-containers-500x500.jpg\n",
      "Completed Image ====> 17. birdy-7-pc-plastic-container-set-medium_eee6daec46eafda0808d34d66b40c7a3.jpg\n",
      "Completed Image ====> 18. 650cc-take-away-container-l.jpg\n",
      "Completed Image ====> 19. B1064025560.jpg\n",
      "Completed Image ====> 20. mono07190285-050920-02.jpg\n",
      "Completed Image ====> 21. il_794xN.1529108335_t0f3.jpg\n",
      "Completed Image ====> 22. 9482192-a-pile-of-plastic-containers-on-a-white-background.jpg\n",
      "Completed Image ====> 23. 05\n",
      "Completed Image ====> 24. soy%20shots-500x500.jpg\n",
      "Completed Image ====> 25. 61QMcPN3mHL._SX425_.jpg\n",
      "Completed Image ====> 26. plastic-containers-500x500.jpg\n",
      "Completed Image ====> 27. 42567134-1-tf.jpg\n",
      "Completed Image ====> 28. plastic_containerjar_toyogo_1542861612_caae09950.jpg\n",
      "Completed Image ====> 29. blue-sterilite-storage-bins-16591008-64_1000.jpg\n",
      "Completed Image ====> 30. plastic_containers_1545920645_9f17a793.jpg\n",
      "\n",
      "Errors: 1\n",
      "\n",
      "\n",
      "Item no.: 2 --> Item name =  trays and tubs for food (non-polystyrene)\n",
      "Evaluating...\n",
      "Starting Download...\n",
      "Completed Image ====> 1. hp10_polystyrene_jacket_potato_box_case__93221.1447808002.1280.1280.jpg\n",
      "Completed Image ====> 2. styrofoam-takeout-food-container-260193.jpg\n",
      "Completed Image ====> 3. 500_F_240670014_wbEu08H13UtwEIQROTvD9Ys9uD40JnT6.jpg\n",
      "Completed Image ====> 4. are-styrofoam-containers-recyclable.jpg\n",
      "Completed Image ====> 5. Disposable-polystyrene-foam-trays.jpg\n",
      "Completed Image ====> 6. foamcont.jpg\n",
      "Completed Image ====> 7. chippy-tray-l.jpg\n",
      "Completed Image ====> 8. 682dd4f4ad4c72fb8a383db3353ff2ed.jpg\n",
      "Completed Image ====> 9. Meat_Fish_Produce_Trays_ks.jpg\n",
      "Completed Image ====> 10. ShowImage?id=4838&t=636149944899580428.jpg\n",
      "Completed Image ====> 11. Foam_Office-860x573.jpg\n",
      "Completed Image ====> 12. black-polystyrene-food-trays-size-8d-500-per-pack-[0]-0-p.jpg\n",
      "Completed Image ====> 13. Foam-Food-Containerq.jpg\n",
      "Completed Image ====> 14. 0419_nws_lpt-l-styrofoam.jpg\n",
      "Completed Image ====> 15. f89c64f099755e4db8e8f66d138e3ace.jpg\n",
      "Completed Image ====> 16. 45678.jpg\n",
      "Completed Image ====> 17. ID-10067639.jpg\n",
      "Completed Image ====> 18. 42-16070914.jpg\n",
      "Completed Image ====> 19. GettyImages-922841340-780x520.jpg\n",
      "Completed Image ====> 20. harvest-kraft-containers.jpg\n",
      "Completed Image ====> 21. 635714448321670000.jpg\n",
      "Completed Image ====> 22. disposable%2Bpacks.jpg\n",
      "Completed Image ====> 23. PCULP615_Charcoal_Gray_Low_Pro_Cart_Ultra_-_Passive.jpg\n",
      "Completed Image ====> 24. clear-packaging.jpg\n",
      "Completed Image ====> 25. BPA-Free-Polystyrene-Poultry-Food-Trays-for-Supermarket-Storage.jpg\n",
      "Completed Image ====> 26. 3_4593_Original_D1_Square_Polystyrene_Food_Trays_e05b43.jpg\n",
      "Completed Image ====> 27. B1152365654.jpg\n",
      "Completed Image ====> 28. Trash-777x437.jpg\n",
      "Completed Image ====> 29. no_1_aluminium_foil_containers.jpg\n",
      "Completed Image ====> 30. polystyrene-takeout-containers-180114-w560-o.jpg\n",
      "\n",
      "Errors: 0\n",
      "\n",
      "\n",
      "Item no.: 1 --> Item name = Biscuit\n",
      "Evaluating...\n",
      "Starting Download...\n",
      "Completed Image ====> 1. Easy-homemade-biscuit-recipe-1-of-1-5-500x375.jpg\n",
      "Completed Image ====> 2. biscuit-recipe-easy-1.jpg\n",
      "Completed Image ====> 3. Homemade-Buttermilk-Biscuits-5.jpg\n",
      "Completed Image ====> 4. fork-biscuits_s640x0_c1002x585_l218x882_q70_noupscale.jpg\n",
      "Completed Image ====> 5. Fluffy-Vegan-Biscuit-Recipe.jpg\n",
      "Completed Image ====> 6. anzac-biscuits-(2).jpg\n",
      "Completed Image ====> 7. How-to-Make-Biscuits-Baked.jpg\n",
      "Completed Image ====> 8. recipe-image-legacy-id--901527_10.jpg\n",
      "Completed Image ====> 9. 2017-06-10-GF-Biscuits-15.jpg\n",
      "Completed Image ====> 10. 3-Ingredient-Coconut-Oil-Biscuits-21.jpg\n",
      "Completed Image ====> 11. hokey-pokey-biscuits-2709-1.jpeg\n",
      "Completed Image ====> 12. digestive-biscuits-copy-1.jpg\n",
      "Completed Image ====> 13. 0ed450ba2533d5f176a3b795f5cfcb42d1bbdffd.jpeg\n",
      "Completed Image ====> 14. 1-49.jpg\n",
      "Completed Image ====> 15. 1200px-Rich_tea.jpg\n",
      "Completed Image ====> 16. All-Purpose-Biscuits-articleLarge.jpg\n",
      "Completed Image ====> 17. d501e047-4ea7-41e9-b106-9a62905cc9e4.jpg\n",
      "Completed Image ====> 18. brush-butter-biscuit-733x524.jpg\n",
      "Completed Image ====> 19. Buttermilk-Biscuits-22.jpg\n",
      "Completed Image ====> 20. fea60198-282d-46b7-bac1-e1536b7b7903.jpg\n",
      "Completed Image ====> 21. empirepin.jpg\n",
      "Completed Image ====> 22. angel-biscuits-sl-x.jpg\n",
      "Completed Image ====> 23. 7923d37a-2f47-41ce-bf8c-ee3e07ed980e.jpg\n",
      "Completed Image ====> 24. fullsizeoutput_6b2a-720x405.jpeg\n",
      "Completed Image ====> 25. IMG_7732-2-960x720.jpg\n",
      "Completed Image ====> 26. Best-Homemade-Biscuits-Sour-Cream-Biscuits.IMG_8925.jpg\n",
      "Completed Image ====> 27. easy_choc_biscuits.jpg\n",
      "Completed Image ====> 28. Biscuit_which_has_been_broken_open.jpg\n",
      "Completed Image ====> 29. recip_img-418272_kelloggs-sustain-original-biscuits-1.jpg\n",
      "Completed Image ====> 30. fo_28bfdc05412ecbe8_spcms_1_0_1_0.jpg\n",
      "\n",
      "Errors: 0\n",
      "\n",
      "\n",
      "Item no.: 2 --> Item name =  milk and food tins\n",
      "Evaluating...\n",
      "Starting Download...\n",
      "Completed Image ====> 1. bless_empty_nestle_milk_tins_1514972489_cc7c66b8.jpg\n",
      "Completed Image ====> 2. il_794xN.1630397719_hxj6.jpg\n",
      "Completed Image ====> 3. Round-Milk-Tin-with-Handle-Metal-Milk-Can-Food-Tins.jpg\n",
      "Completed Image ====> 4. il_794xN.1130895281_3oij.jpg\n",
      "Completed Image ====> 5. zz-national-dried-milk-welfare-foods-service-vintage-baby-milk-powder-tin-c.1960s-sold-21279-p.jpg\n",
      "Completed Image ====> 6. 731cc27c64ee754d5c6ed05dc8d9f6b2.jpg\n",
      "Completed Image ====> 7. 46299.jpg\n",
      "Completed Image ====> 8. ensure_milk_powder_life_3_tins_bundle_1526784950_b98030e9.jpg\n",
      "Completed Image ====> 9. Metal-Storage-Silver-Tins-Milk-Powder-Coffee.jpg\n",
      "Completed Image ====> 10. Tin-4_1024x1024.jpg\n",
      "Completed Image ====> 11. world-war-two-british-tins-of-rationed-food-milk-and-eggs-1941-EX6K3Y.jpg\n",
      "Completed Image ====> 12. slide172.jpg\n",
      "Completed Image ====> 13. condensed-milk-royal-miller-390g-powder-lim-siang-huat-e-store_873_1e6d53f6-324d-4c32-9db2-18dff2616a8c_1024x1024.jpg\n",
      "Completed Image ====> 14. 667b733dde7f2ff7b5e2305e720c2151.jpg\n",
      "Completed Image ====> 15. Tin-Sold_300x300.jpg\n",
      "Completed Image ====> 16. Custom-Sales-Round-Powder-Milk-Food-Packaging-Cans-and-Tins.jpg\n",
      "Completed Image ====> 17. ensure_milk_850g_1514337424_ba8682520.jpg\n",
      "Completed Image ====> 18. peak_milk_1_1.jpg\n",
      "Completed Image ====> 19. 43454.jpg\n",
      "Completed Image ====> 20. coconut-milk-AE5H1M.jpg\n",
      "Completed Image ====> 21. milk3_0.jpg\n",
      "Completed Image ====> 22. set-white-tins-can-plastic-cap-baby-powder-milk-instant-coffee-cereal-etc-blank-tincan-metal-tin-canned-food-vector-131785805.jpg\n",
      "Completed Image ====> 23. ShattoMilk-hires-72dpi.jpg\n",
      "Completed Image ====> 24. Nice-can-Custom-Embossed-Round-Metal-Tin.jpg\n",
      "Completed Image ====> 25. VictorianCollections-medium.jpg\n",
      "Completed Image ====> 26. cbe9d70074469417b51804f2235499c460cb26bd.jpg\n",
      "Completed Image ====> 27. mcBEvF6U-k1eKiWDUle0GLA.jpg\n",
      "Completed Image ====> 28. ww2-replica-ration-food-tin-cans2.jpg\n",
      "Completed Image ====> 29. f60fb6bf-b60e-4fea-bdfe-39ae9af148a3__81316.1544343354.jpg\n",
      "Completed Image ====> 30. bellamy_toddler_powder_.jpg\n",
      "\n",
      "Errors: 0\n",
      "\n"
     ]
    }
   ],
   "source": [
    "# Get 30 images for each recyclable item\n",
    "\n",
    "for item in recyclables:\n",
    "    if item not in os.listdir(\"../training_images/\"):\n",
    "        absolute_image_paths = response.download({\n",
    "            'keywords': item, \n",
    "            'limit': 30,\n",
    "            'format': 'jpg',\n",
    "            'output_directory': '../training_images'})"
   ]
  },
  {
   "cell_type": "code",
   "execution_count": null,
   "metadata": {
    "scrolled": true
   },
   "outputs": [
    {
     "name": "stdout",
     "output_type": "stream",
     "text": [
      "Processing Aluminium trays and foil...\n",
      "Processing Calendar...\n",
      "Processing Old clothes (in good condition)...\n",
      "Processing Beverage bottles...\n",
      "Processing Pens and pencils...\n",
      "Processing Food cans...\n",
      "Processing  trays and tubs for food (non-polystyrene)...\n",
      "Processing Ceramics...\n",
      "Processing Tissue box...\n",
      "Processing Paper wrapper for food...\n",
      "Processing Egg tray...\n",
      "WARNING:tensorflow:From ../models/imagenet/custom_classify_image.py:184: FastGFile.__init__ (from tensorflow.python.platform.gfile) is deprecated and will be removed in a future version.\n",
      "Instructions for updating:\n",
      "Use tf.gfile.GFile.\n",
      "Softmax vector saved.\n",
      "Processing Household batteries...\n",
      "Softmax vector saved.\n",
      "Processing Toilet paper...\n",
      "Softmax vector saved.\n",
      "Processing Gift wrapping paper...\n",
      "Softmax vector saved.\n",
      "Processing Flyer...\n"
     ]
    }
   ],
   "source": [
    "# Get softmax vector for each image\n",
    "\n",
    "counter = 1\n",
    "for obj in os.listdir(\"../training_images/\"):\n",
    "    print('Processing ' + obj + '...')    \n",
    "    \n",
    "    # If softmax vector is already saved, don't generate it again.\n",
    "    if obj + \".txt\" in os.listdir(\"../training_vectors/\"):\n",
    "        continue\n",
    "    \n",
    "    else:\n",
    "        smv_obj = []\n",
    "\n",
    "        for file in os.listdir(os.path.join(\"../training_images\", obj)):\n",
    "            smv = get_softmax_vector(os.path.join(\"../training_images\", obj, file))\n",
    "            smv_obj.append(smv)\n",
    "\n",
    "        with open(os.path.join(\"../training_vectors\", obj) + \".txt\", \"wb\") as fp:\n",
    "            pickle.dump(smv_obj, fp)\n",
    "            print(\"Softmax vector saved.\")\n",
    "        \n",
    "    counter += 1\n",
    "    \n",
    "    if counter > 5:\n",
    "        break"
   ]
  },
  {
   "cell_type": "code",
   "execution_count": 19,
   "metadata": {
    "scrolled": false
   },
   "outputs": [
    {
     "name": "stdout",
     "output_type": "stream",
     "text": [
      "Loading Beverage bottles.txt...\n",
      "Loading Aluminium trays and foil.txt...\n",
      "Loading Old clothes (in good condition).txt...\n",
      "Loading Calendar.txt...\n",
      "Loading Pens and pencils.txt...\n",
      "Loading Food cans.txt...\n"
     ]
    }
   ],
   "source": [
    "smv_objs = {}\n",
    "\n",
    "for obj in os.listdir(\"../training_vectors/\"):\n",
    "    print('Loading ' + obj + '...')\n",
    "    \n",
    "    with open(os.path.join(\"../training_vectors\", obj), \"rb\") as fp:\n",
    "        b = pickle.load(fp)\n",
    "\n",
    "        smv_objs[obj.strip('.txt')] = b"
   ]
  },
  {
   "cell_type": "code",
   "execution_count": 10,
   "metadata": {
    "scrolled": true
   },
   "outputs": [
    {
     "name": "stderr",
     "output_type": "stream",
     "text": [
      "/home/laura/Documents/trashy-image-recognition/venv/lib/python3.5/site-packages/sklearn/externals/joblib/_multiprocessing_helpers.py:38: UserWarning: [Errno 12] Cannot allocate memory.  joblib will operate in serial mode\n",
      "  warnings.warn('%s.  joblib will operate in serial mode' % (e,))\n"
     ]
    }
   ],
   "source": [
    "from sklearn.manifold import TSNE"
   ]
  },
  {
   "cell_type": "code",
   "execution_count": 11,
   "metadata": {
    "scrolled": true
   },
   "outputs": [],
   "source": [
    "%matplotlib inline\n",
    "import matplotlib.pyplot as plt\n",
    "import seaborn as sns"
   ]
  },
  {
   "cell_type": "code",
   "execution_count": 20,
   "metadata": {},
   "outputs": [],
   "source": [
    "smv_lists = []\n",
    "smv_groups = []\n",
    "\n",
    "for k in smv_objs.keys():\n",
    "    smv_list = smv_objs.get(k)\n",
    "    smv_lists.extend(smv_list)\n",
    "    \n",
    "    smv_group = [k] * len(smv_list)\n",
    "    smv_groups.extend(smv_group)"
   ]
  },
  {
   "cell_type": "code",
   "execution_count": 21,
   "metadata": {
    "scrolled": true
   },
   "outputs": [
    {
     "name": "stdout",
     "output_type": "stream",
     "text": [
      "[t-SNE] Computing 121 nearest neighbors...\n",
      "[t-SNE] Indexed 176 samples in 0.003s...\n",
      "[t-SNE] Computed neighbors for 176 samples in 0.021s...\n",
      "[t-SNE] Computed conditional probabilities for sample 176 / 176\n",
      "[t-SNE] Mean sigma: 0.262018\n",
      "[t-SNE] KL divergence after 250 iterations with early exaggeration: 64.372749\n",
      "[t-SNE] KL divergence after 300 iterations: 0.888240\n"
     ]
    }
   ],
   "source": [
    "tsne = TSNE(n_components=2, verbose=1, perplexity=40, n_iter=300)\n",
    "tsne_results = tsne.fit_transform(smv_lists)"
   ]
  },
  {
   "cell_type": "code",
   "execution_count": 22,
   "metadata": {},
   "outputs": [
    {
     "data": {
      "text/plain": [
       "<matplotlib.axes._subplots.AxesSubplot at 0x7eff7aa07cf8>"
      ]
     },
     "execution_count": 22,
     "metadata": {},
     "output_type": "execute_result"
    },
    {
     "data": {
      "image/png": "[encoded data removed]",
      "text/plain": [
       "<Figure size 1152x720 with 1 Axes>"
      ]
     },
     "metadata": {
      "needs_background": "light"
     },
     "output_type": "display_data"
    }
   ],
   "source": [
    "plt.figure(figsize=(16,10))\n",
    "sns.scatterplot(\n",
    "    x=tsne_results[:,0], y=tsne_results[:,1],\n",
    "    hue=smv_groups,\n",
    "    palette=sns.color_palette(\"hls\", len(set(smv_groups))),\n",
    "    legend=\"full\",\n",
    "    alpha=0.8)"
   ]
  }
 ],
 "metadata": {
  "kernelspec": {
   "display_name": "trashy",
   "language": "python",
   "name": "trashy"
  },
  "language_info": {
   "codemirror_mode": {
    "name": "ipython",
    "version": 3
   },
   "file_extension": ".py",
   "mimetype": "text/x-python",
   "name": "python",
   "nbconvert_exporter": "python",
   "pygments_lexer": "ipython3",
   "version": "3.5.2"
  }
 },
 "nbformat": 4,
 "nbformat_minor": 2
}
